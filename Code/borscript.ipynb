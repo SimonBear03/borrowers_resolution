{
 "cells": [
  {
   "cell_type": "code",
   "execution_count": 15,
   "metadata": {},
   "outputs": [],
   "source": [
    "import pandas as pd\n",
    "from sklearn.feature_extraction.text import TfidfVectorizer\n",
    "from sklearn.metrics.pairwise import cosine_similarity\n",
    "from scipy.cluster.hierarchy import linkage, fcluster\n",
    "import re\n",
    "import numpy as np\n",
    "import tqdm\n",
    "from copy import deepcopy\n",
    "\n",
    "stop_words = ['of', 'for', 'the', 'and']"
   ]
  },
  {
   "cell_type": "code",
   "execution_count": 2,
   "metadata": {},
   "outputs": [],
   "source": [
    "def clean_text(text):\n",
    "    # Replace '&' with 'and'\n",
    "    text = text.replace('&', 'and')\n",
    "    # Remove special characters\n",
    "    text = re.sub(r'[^a-zA-Z0-9\\s]', '', text)\n",
    "    # Remove stopwords\n",
    "    text = ' '.join([word for word in text.split() if word.lower() not in stop_words])\n",
    "    return text"
   ]
  },
  {
   "cell_type": "code",
   "execution_count": 4,
   "metadata": {},
   "outputs": [],
   "source": [
    "# Load the CSV files\n",
    "borrower_em = pd.read_csv('..\\Data-In\\Borrower_EM.csv')\n",
    "borrower_wb = pd.read_csv('..\\Data-In\\Borrower_WB.csv')"
   ]
  },
  {
   "cell_type": "code",
   "execution_count": 5,
   "metadata": {},
   "outputs": [
    {
     "data": {
      "text/plain": [
       "Index(['PKGID', 'ORDER', 'BORROWERID', 'BORROWER', 'ABBR', 'COUNTRY',\n",
       "       'COUNTRYISO3', 'TYPE', 'PURPOSE', 'ISIC'],\n",
       "      dtype='object')"
      ]
     },
     "execution_count": 5,
     "metadata": {},
     "output_type": "execute_result"
    }
   ],
   "source": [
    "borrower_wb.columns"
   ]
  },
  {
   "cell_type": "code",
   "execution_count": 7,
   "metadata": {},
   "outputs": [],
   "source": [
    "# Concatenating the two input files\n",
    "\n",
    "# This variable is the EM file with empty TYPE and PURPOSE columns added  \n",
    "borrower_em_with_type_purpose = borrower_em\n",
    "borrower_em_with_type_purpose['TYPE'] = None\n",
    "borrower_em_with_type_purpose['PURPOSE'] = None"
   ]
  },
  {
   "cell_type": "code",
   "execution_count": 81,
   "metadata": {},
   "outputs": [],
   "source": [
    "borrower_combined = pd.concat([borrower_em_with_type_purpose, borrower_wb])\n",
    "borrower_combined.reset_index(drop=True, inplace=True)"
   ]
  },
  {
   "cell_type": "code",
   "execution_count": 82,
   "metadata": {},
   "outputs": [],
   "source": [
    "# Extract the borrower names\n",
    "borrowers_augmented = deepcopy(borrower_combined)\n",
    "borrowers_augmented.insert(0, 'OG_INDEX', borrowers_augmented.index)\n",
    "borrowers_augmented.insert(5, 'CLEAN_BORROWER', borrowers_augmented['BORROWER'].apply(clean_text))"
   ]
  },
  {
   "cell_type": "markdown",
   "metadata": {},
   "source": [
    "### Clustering"
   ]
  },
  {
   "cell_type": "code",
   "execution_count": 18,
   "metadata": {},
   "outputs": [
    {
     "data": {
      "text/plain": [
       "array([[0., 0., 0., ..., 0., 0., 0.],\n",
       "       [0., 0., 0., ..., 0., 0., 0.],\n",
       "       [0., 0., 0., ..., 0., 0., 0.],\n",
       "       ...,\n",
       "       [0., 0., 0., ..., 0., 0., 0.],\n",
       "       [0., 0., 0., ..., 0., 0., 0.],\n",
       "       [0., 0., 0., ..., 0., 0., 0.]])"
      ]
     },
     "execution_count": 18,
     "metadata": {},
     "output_type": "execute_result"
    }
   ],
   "source": [
    "# Vectorize the borrower names using TF-IDF\n",
    "vectorizer = TfidfVectorizer().fit_transform(borrowers_augmented['CLEAN_BORROWER'])\n",
    "vectors = vectorizer.toarray()\n",
    "vectors"
   ]
  },
  {
   "cell_type": "code",
   "execution_count": 19,
   "metadata": {},
   "outputs": [
    {
     "data": {
      "text/plain": [
       "array([[1., 0., 0., ..., 0., 0., 0.],\n",
       "       [0., 1., 0., ..., 0., 0., 0.],\n",
       "       [0., 0., 1., ..., 0., 0., 0.],\n",
       "       ...,\n",
       "       [0., 0., 0., ..., 1., 0., 0.],\n",
       "       [0., 0., 0., ..., 0., 1., 1.],\n",
       "       [0., 0., 0., ..., 0., 1., 1.]])"
      ]
     },
     "execution_count": 19,
     "metadata": {},
     "output_type": "execute_result"
    }
   ],
   "source": [
    "# Calculate cosine similarity matrix\n",
    "cosine_sim_matrix = cosine_similarity(vectors)\n",
    "cosine_sim_matrix"
   ]
  },
  {
   "cell_type": "code",
   "execution_count": 20,
   "metadata": {},
   "outputs": [],
   "source": [
    "linkage_matrix = linkage(1 - cosine_sim_matrix, method='ward')"
   ]
  },
  {
   "cell_type": "code",
   "execution_count": 21,
   "metadata": {},
   "outputs": [],
   "source": [
    "threshold = 0.35  \n",
    "clusters = fcluster(linkage_matrix, threshold, criterion='distance')"
   ]
  },
  {
   "cell_type": "markdown",
   "metadata": {},
   "source": [
    "###"
   ]
  },
  {
   "cell_type": "code",
   "execution_count": 83,
   "metadata": {},
   "outputs": [],
   "source": [
    "borrowers_augmented.loc[:, 'CLUSTER'] = clusters"
   ]
  },
  {
   "cell_type": "code",
   "execution_count": 84,
   "metadata": {},
   "outputs": [
    {
     "data": {
      "text/plain": [
       "Index(['OG_INDEX', 'PKGID', 'ORDER', 'BORROWERID', 'BORROWER',\n",
       "       'CLEAN_BORROWER', 'ABBR', 'COUNTRY', 'COUNTRYISO3', 'ISIC', 'TYPE',\n",
       "       'PURPOSE', 'CLUSTER'],\n",
       "      dtype='object')"
      ]
     },
     "execution_count": 84,
     "metadata": {},
     "output_type": "execute_result"
    }
   ],
   "source": [
    "borrowers_augmented.columns"
   ]
  },
  {
   "cell_type": "code",
   "execution_count": 70,
   "metadata": {},
   "outputs": [],
   "source": [
    "def impute_mode(group, column):\n",
    "    if not group[column].mode().empty:\n",
    "        mode_value = group[column].mode().iloc[0]\n",
    "    else:\n",
    "        mode_value = ''  # Default value if mode is not available\n",
    "    imputed = group[column].isnull()\n",
    "    group[column] = group[column].fillna(mode_value)\n",
    "    return group, imputed"
   ]
  },
  {
   "cell_type": "markdown",
   "metadata": {},
   "source": [
    "### Dealing with problematic clusters (Multiple Borrower IDs in the same cluster)"
   ]
  },
  {
   "cell_type": "code",
   "execution_count": 85,
   "metadata": {},
   "outputs": [],
   "source": [
    "problematic_clusters = borrowers_augmented.groupby('CLUSTER').filter(lambda x: x['BORROWERID'].nunique() > 1)\n",
    "\n",
    "# We also need to get all other rows matching these borrowerids that the clusters haven;t picked up on\n",
    "filtered_rows = borrowers_augmented[borrowers_augmented['BORROWERID'].isin(problematic_clusters['BORROWERID'].unique())]\n",
    "\n",
    "problematic_clusters_complete = pd.DataFrame(filtered_rows)"
   ]
  },
  {
   "cell_type": "markdown",
   "metadata": {},
   "source": [
    "Fixing BID-B1000: C.E.S.A manually"
   ]
  },
  {
   "cell_type": "code",
   "execution_count": 86,
   "metadata": {},
   "outputs": [],
   "source": [
    "prob_clusters_fixed = deepcopy(problematic_clusters_complete)\n",
    "prob_clusters_fixed.insert(4,'NEW_BORROWERID', prob_clusters_fixed['BORROWERID'])\n",
    "prob_clusters_fixed.loc[prob_clusters_fixed['BORROWERID']=='B1000', 'NEW_BORROWERID'] = 'B1218'"
   ]
  },
  {
   "cell_type": "markdown",
   "metadata": {},
   "source": [
    "Creating unique Borrower IDs for each ID-Country pair. These IDs are set to 5 digits as a flag for manual correction having been done. "
   ]
  },
  {
   "cell_type": "code",
   "execution_count": 87,
   "metadata": {},
   "outputs": [],
   "source": [
    "seen_pairs = {}\n",
    "\n",
    "for index, row in prob_clusters_fixed.iterrows():\n",
    "    borrowerid = row['NEW_BORROWERID']\n",
    "    country = row['COUNTRYISO3']\n",
    "\n",
    "    if borrowerid not in seen_pairs:\n",
    "        seen_pairs[borrowerid] = {}\n",
    "\n",
    "    if country not in seen_pairs[borrowerid]:\n",
    "        seen_pairs[borrowerid][country] = len(seen_pairs[borrowerid]) + 1\n",
    "\n",
    "    new_borrowerid = f'{borrowerid}{seen_pairs[borrowerid][country]}'\n",
    "    prob_clusters_fixed.at[index, 'NEW_BORROWERID'] = new_borrowerid\n"
   ]
  },
  {
   "cell_type": "markdown",
   "metadata": {},
   "source": [
    "Using the fixed clusters as reference and updating information in main dataframe."
   ]
  },
  {
   "cell_type": "code",
   "execution_count": 88,
   "metadata": {},
   "outputs": [],
   "source": [
    "for index, row in prob_clusters_fixed.iterrows():\n",
    "    og_index = row['OG_INDEX']\n",
    "    borrower_id_new = row['NEW_BORROWERID']\n",
    "    borrowers_augmented.loc[borrowers_augmented['OG_INDEX']==og_index, 'BORROWERID'] = borrower_id_new"
   ]
  },
  {
   "cell_type": "markdown",
   "metadata": {},
   "source": [
    "Filling in the missing values for ISIC, COUNTRYISO3, and COUNTRY"
   ]
  },
  {
   "cell_type": "code",
   "execution_count": 89,
   "metadata": {},
   "outputs": [],
   "source": [
    "borrowers_augmented.loc[:, 'IMPUTED'] = 0\n",
    "\n",
    "# Impute missing ISIC values and update the 'IMPUTED' column\n",
    "for borrower_id, group in borrowers_augmented.groupby('BORROWERID'):\n",
    "    imputed_isic = group['ISIC'].isnull()\n",
    "    group, imputed_isic = impute_mode(group, 'ISIC')\n",
    "    borrowers_augmented.loc[borrowers_augmented['BORROWERID'] == borrower_id, 'ISIC'] = group['ISIC']\n",
    "    borrowers_augmented.loc[borrowers_augmented['BORROWERID'] == borrower_id, 'IMPUTED'] += imputed_isic.astype(int)\n",
    "\n",
    "# Impute missing COUNTRYISO3 values and update the 'IMPUTED' column\n",
    "for borrower_id, group in borrowers_augmented.groupby('BORROWERID'):\n",
    "    imputed_country = group['COUNTRYISO3'].isnull()\n",
    "    group, imputed_country = impute_mode(group, 'COUNTRYISO3')\n",
    "    borrowers_augmented.loc[borrowers_augmented['BORROWERID'] == borrower_id, 'COUNTRYISO3'] = group['COUNTRYISO3']\n",
    "    borrowers_augmented.loc[borrowers_augmented['BORROWERID'] == borrower_id, 'IMPUTED'] += 2 * imputed_country.astype(int)\n"
   ]
  },
  {
   "cell_type": "code",
   "execution_count": 90,
   "metadata": {},
   "outputs": [],
   "source": [
    "def set_country_mode(group):\n",
    "    mode_country = group['COUNTRY'].mode()[0]  # Get the mode of the COUNTRY column\n",
    "    group['COUNTRY'] = mode_country\n",
    "    return group"
   ]
  },
  {
   "cell_type": "code",
   "execution_count": 74,
   "metadata": {},
   "outputs": [
    {
     "name": "stderr",
     "output_type": "stream",
     "text": [
      "C:\\Users\\ASUS\\AppData\\Local\\Temp\\ipykernel_10636\\3631109854.py:2: DeprecationWarning: DataFrameGroupBy.apply operated on the grouping columns. This behavior is deprecated, and in a future version of pandas the grouping columns will be excluded from the operation. Either pass `include_groups=False` to exclude the groupings or explicitly select the grouping columns after groupby to silence this warning.\n",
      "  borrowers_augmented = borrowers_augmented.groupby('COUNTRYISO3').apply(set_country_mode)\n"
     ]
    }
   ],
   "source": [
    "# Assign the mode of the country to all rows with same COUNTRYISO3 code\n",
    "borrowers_augmented = borrowers_augmented.groupby('COUNTRYISO3').apply(set_country_mode)"
   ]
  },
  {
   "cell_type": "markdown",
   "metadata": {},
   "source": [
    "Filtering out all the rows with missing COUNTRYISO3 before filling in COUNTRY names"
   ]
  },
  {
   "cell_type": "code",
   "execution_count": 102,
   "metadata": {},
   "outputs": [
    {
     "name": "stderr",
     "output_type": "stream",
     "text": [
      "C:\\Users\\ASUS\\AppData\\Local\\Temp\\ipykernel_10636\\3367917712.py:1: FutureWarning: A value is trying to be set on a copy of a DataFrame or Series through chained assignment using an inplace method.\n",
      "The behavior will change in pandas 3.0. This inplace method will never work because the intermediate object on which we are setting values always behaves as a copy.\n",
      "\n",
      "For example, when doing 'df[col].method(value, inplace=True)', try using 'df.method({col: value}, inplace=True)' or df[col] = df[col].method(value) instead, to perform the operation inplace on the original object.\n",
      "\n",
      "\n",
      "  borrowers_augmented['COUNTRYISO3'].replace('', None, inplace=True)\n"
     ]
    }
   ],
   "source": [
    "borrowers_augmented['COUNTRYISO3'].replace('', None, inplace=True)"
   ]
  },
  {
   "cell_type": "code",
   "execution_count": 103,
   "metadata": {},
   "outputs": [
    {
     "name": "stderr",
     "output_type": "stream",
     "text": [
      "C:\\Users\\ASUS\\AppData\\Local\\Temp\\ipykernel_10636\\3687408022.py:4: DeprecationWarning: DataFrameGroupBy.apply operated on the grouping columns. This behavior is deprecated, and in a future version of pandas the grouping columns will be excluded from the operation. Either pass `include_groups=False` to exclude the groupings or explicitly select the grouping columns after groupby to silence this warning.\n",
      "  filtered_data = filtered_data.groupby('COUNTRYISO3').apply(set_country_mode)\n"
     ]
    }
   ],
   "source": [
    "filtered_data = borrowers_augmented.dropna(subset=['COUNTRYISO3'])\n",
    "\n",
    "# Apply the function to each group of COUNTRYISO3\n",
    "filtered_data = filtered_data.groupby('COUNTRYISO3').apply(set_country_mode)"
   ]
  },
  {
   "cell_type": "code",
   "execution_count": 104,
   "metadata": {},
   "outputs": [],
   "source": [
    "updated_borrower_data = borrowers_augmented.merge(\n",
    "    filtered_data[['OG_INDEX', 'COUNTRY']],\n",
    "    on='OG_INDEX',\n",
    "    how='left',\n",
    "    suffixes=('', '_updated')\n",
    ")\n",
    "\n",
    "updated_borrower_data['COUNTRY'] = updated_borrower_data['COUNTRY_updated'].combine_first(updated_borrower_data['COUNTRY'])\n",
    "\n",
    "updated_borrower_data.drop(columns=['OG_INDEX', 'COUNTRY_updated'], inplace=True)\n"
   ]
  },
  {
   "cell_type": "markdown",
   "metadata": {},
   "source": [
    "### Exporting Result"
   ]
  },
  {
   "cell_type": "code",
   "execution_count": 105,
   "metadata": {},
   "outputs": [],
   "source": [
    "final_borrower_data = updated_borrower_data.drop(columns=['CLEAN_BORROWER', 'CLUSTER'], inplace=False)"
   ]
  },
  {
   "cell_type": "code",
   "execution_count": 106,
   "metadata": {},
   "outputs": [],
   "source": [
    "final_borrower_data.to_csv('..\\Data-Out\\Borrower_Combined_Result.csv')"
   ]
  }
 ],
 "metadata": {
  "kernelspec": {
   "display_name": "Python 3",
   "language": "python",
   "name": "python3"
  },
  "language_info": {
   "codemirror_mode": {
    "name": "ipython",
    "version": 3
   },
   "file_extension": ".py",
   "mimetype": "text/x-python",
   "name": "python",
   "nbconvert_exporter": "python",
   "pygments_lexer": "ipython3",
   "version": "3.10.6"
  }
 },
 "nbformat": 4,
 "nbformat_minor": 2
}
